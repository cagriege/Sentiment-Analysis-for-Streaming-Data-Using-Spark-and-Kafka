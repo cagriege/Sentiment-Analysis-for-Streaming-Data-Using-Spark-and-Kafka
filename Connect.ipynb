{
 "cells": [
  {
   "cell_type": "code",
   "execution_count": null,
   "metadata": {},
   "outputs": [],
   "source": [
    "from pyspark.sql.functions import col\n",
    "from pyspark.sql import SQLContext, SparkSession\n",
    "from pyspark import SparkContext\n",
    "from pyspark.streaming import StreamingContext\n",
    "from collections import namedtuple\n",
    "from pyspark.ml import PipelineModel\n",
    "import pandas as pd\n",
    "# from pyspark.sql.functions import desc\n",
    "\n",
    "sc = SparkContext(\"local[2]\", \"Streaming App\")\n",
    "ssc = StreamingContext(sc, 10)\n",
    "sqlContext = SQLContext(sc)\n",
    "\n",
    "\n",
    "\n",
    "data = sqlContext.read.format('com.databricks.spark.csv').options(header='false', inferschema='true').load('/Users/cagri/Desktop/cagridruid.csv')\n",
    "\n",
    "\n"
   ]
  },
  {
   "cell_type": "code",
   "execution_count": null,
   "metadata": {},
   "outputs": [],
   "source": [
    "sc"
   ]
  },
  {
   "cell_type": "code",
   "execution_count": null,
   "metadata": {},
   "outputs": [],
   "source": [
    "lines = socket_stream.window(20)\n",
    "fields = (\"SentimentText\")\n",
    "Tweet = namedtuple( 'Tweet', fields )\n",
    "termination_flag = 0"
   ]
  },
  {
   "cell_type": "code",
   "execution_count": null,
   "metadata": {},
   "outputs": [],
   "source": [
    "\n",
    "rf = PipelineModel.load(\"/Users/cagri/logreg.model\")"
   ]
  },
  {
   "cell_type": "code",
   "execution_count": null,
   "metadata": {},
   "outputs": [],
   "source": [
    "def getSparkSessionInstance(sparkConf):\n",
    "    if (\"sparkSessionSingletonInstance\" not in globals()):\n",
    "        globals()[\"sparkSessionSingletonInstance\"] = SparkSession \\\n",
    "            .builder \\\n",
    "            .config(conf=sparkConf) \\\n",
    "            .getOrCreate()\n",
    "    return globals()[\"sparkSessionSingletonInstance\"]\n",
    "\n",
    "def rdd_iterator(time, rdd):\n",
    "        \n",
    "        print(\"========= %s =========\" % str(time))\n",
    "        \n",
    "        # Get the singleton instance of SparkSession\n",
    "        print(\"in try\")\n",
    "        spark = getSparkSessionInstance(rdd.context.getConf())\n",
    "        print(\"spark session\")\n",
    "        # Convert RDD[String] to RDD[Tweet] to DataFrame\n",
    "        rowRdd = rdd.map(lambda w: Tweet(w))\n",
    "        linesDataFrame = spark.createDataFrame(rowRdd)\n",
    "        print(\"linesDataframe created.\")\n",
    "        # Creates a temporary view using the DataFrame\n",
    "        linesDataFrame.createOrReplaceTempView(\"tweets\")\n",
    "    \n",
    "        # Do tweet character count on table using SQL and print it\n",
    "        lineCountsDataFrame = spark.sql(\"select SentimentText as _c5 from tweets\")\n",
    "        print(\"before prediction\")\n",
    "        prediction = rf.transform(lineCountsDataFrame)\n",
    "        print(\"after prediction\")\n",
    "        #prediction.show()\n",
    "        keep_list = [\"_c5\", \"prediction\"]\n",
    "        prediction_save = prediction.select([column for column in prediction.columns if column in keep_list])\n",
    "        pred = prediction_save.toPandas()\n",
    "        pred.to_csv('my_csv.csv', mode='a', header='true', index = False, encoding='utf-8')\n",
    "        \n",
    "        tweets_in_csv = pd.read_csv('my_csv.csv', index_col = False, encoding = 'unicode_escape')\n",
    "        if (len(tweets_in_csv)> 100):\n",
    "            ssc.stop()"
   ]
  },
  {
   "cell_type": "code",
   "execution_count": null,
   "metadata": {},
   "outputs": [],
   "source": [
    "lines.foreachRDD(rdd_iterator)"
   ]
  },
  {
   "cell_type": "code",
   "execution_count": null,
   "metadata": {},
   "outputs": [],
   "source": [
    "ssc.start()"
   ]
  },
  {
   "cell_type": "code",
   "execution_count": null,
   "metadata": {},
   "outputs": [],
   "source": [
    "ssc.awaitTermination()"
   ]
  }
 ],
 "metadata": {
  "kernelspec": {
   "display_name": "Python 3",
   "language": "python",
   "name": "python3"
  },
  "language_info": {
   "codemirror_mode": {
    "name": "ipython",
    "version": 3
   },
   "file_extension": ".py",
   "mimetype": "text/x-python",
   "name": "python",
   "nbconvert_exporter": "python",
   "pygments_lexer": "ipython3",
   "version": "3.6.10"
  }
 },
 "nbformat": 4,
 "nbformat_minor": 4
}