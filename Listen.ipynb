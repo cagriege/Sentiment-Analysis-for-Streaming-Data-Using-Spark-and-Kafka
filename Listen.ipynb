{
 "cells": [
  {
   "cell_type": "code",
   "execution_count": null,
   "metadata": {},
   "outputs": [],
   "source": [
    "import tweepy\n",
    "import socket\n",
    "import requests\n",
    "import time\n",
    "import csv\n",
    "import stat\n",
    "import os\n",
    "import socket\n",
    "import json\n",
    "import re"
   ]
  },
  {
   "cell_type": "code",
   "execution_count": null,
   "metadata": {},
   "outputs": [],
   "source": [
    "class TwitterStreamListener(tweepy.StreamListener):\n",
    "     \n",
    "        \n",
    "        def __init__(self, sc):\n",
    "                super(TwitterStreamListener, self).__init__()\n",
    "                self.client_socket = sc\n",
    "\n",
    "        def on_status(self, status):\n",
    "                #print(status.text)\n",
    "                tweet = self.get_tweet(status)\n",
    "                #print(json.dumps(tweet).encode('utf-8'))\n",
    "                self.client_socket.send((tweet[2]+\"\\n\").encode('utf-8'))\n",
    "                return True\n",
    "\n",
    "        # Twitter error list : https://dev.twitter.com/overview/api/response-codes\n",
    "        def on_error(self, status_code):\n",
    "                print(\"Status code\")\n",
    "                print(status_code)\n",
    "                if status_code == 403:\n",
    "                        print(\"The request is understood, but the access is not allowed. Limit may be reached.\")\n",
    "                        return False\n",
    "\n",
    "        def get_tweet(self,tweet):\n",
    "                text = tweet.text\n",
    "                if hasattr(tweet, 'extended_tweet'):\n",
    "                        text = tweet.extended_tweet['full_text']\n",
    "                return [str(tweet.user.id),tweet.user.screen_name,self.clean_str(text)]\n",
    "\n",
    "        def clean_str(self, string):\n",
    "                \"\"\"\n",
    "                Tokenization/string cleaning.\n",
    "                \"\"\"\n",
    "                string = re.sub(r\"\\n|\\t\", \" \", string)\n",
    "                return string\n"
   ]
  },
  {
   "cell_type": "code",
   "execution_count": null,
   "metadata": {},
   "outputs": [],
   "source": [
    "if __name__ == '__main__':\n",
    "        # Authentication\n",
    "        consumer_key = \"\"\n",
    "        consumer_secret = \"\"\n",
    "        access_token = \"\"\n",
    "        access_token_secret = \"\"\n",
    "        \n",
    "         \n",
    "\n",
    "        # Local connection\n",
    "        host = \"127.0.0.1\"          # Get local machine name (copy internal address from EC2 instance).\n",
    "        port = 5559                 # Reserve a port for your service.\n",
    "\n",
    "        s = socket.socket()         # Create a socket object.\n",
    "        s.bind((host, port))        # Bind to the port.\n",
    "\n",
    "        print(\"Listening on port: %s\" % str(port))\n",
    "\n",
    "        s.listen(5)                \n",
    "        c, addr = s.accept()        \n",
    "\n",
    "        print(\"Received request from: \" + str(addr))\n",
    "        auth = tweepy.OAuthHandler(consumer_key, consumer_secret)\n",
    "        auth.secure = True\n",
    "        auth.set_access_token(access_token, access_token_secret)\n",
    "\n",
    "        api = tweepy.API(auth, wait_on_rate_limit=True, wait_on_rate_limit_notify=True, retry_count=10, retry_delay=5, retry_errors=5)\n",
    "\n",
    "        streamListener = TwitterStreamListener(c)\n",
    "        myStream = tweepy.Stream(auth=api.auth, listener=streamListener, tweet_mode='extended')\n",
    "        myStream.filter(track=['Ford','Fordfocus'])"
   ]
  },
  {
   "cell_type": "code",
   "execution_count": null,
   "metadata": {},
   "outputs": [],
   "source": []
  }
 ],
 "metadata": {
  "kernelspec": {
   "display_name": "Python 3",
   "language": "python",
   "name": "python3"
  },
  "language_info": {
   "codemirror_mode": {
    "name": "ipython",
    "version": 3
   },
   "file_extension": ".py",
   "mimetype": "text/x-python",
   "name": "python",
   "nbconvert_exporter": "python",
   "pygments_lexer": "ipython3",
   "version": "3.6.10"
  }
 },
 "nbformat": 4,
 "nbformat_minor": 4
}